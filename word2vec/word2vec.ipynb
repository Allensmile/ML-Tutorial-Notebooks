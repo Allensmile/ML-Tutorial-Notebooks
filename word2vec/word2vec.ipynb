{
 "cells": [
  {
   "cell_type": "markdown",
   "metadata": {
    "collapsed": true
   },
   "source": [
    "# A Word2Vec playground\n",
    "\n",
    "To play with this notebook, you'll need Annoy, Gensim, and the GoogleNews vector.\n",
    "\n",
    "  pip install annoy  \n",
    "  pip install gensim  \n",
    "  you can find the GoogleNews vector by googling _./GoogleNews-vectors-negative300.bin_\n",
    "\n",
    "Inspired by: https://github.com/chrisjmccormick/inspect_word2vec\n"
   ]
  },
  {
   "cell_type": "code",
   "execution_count": 18,
   "metadata": {
    "collapsed": false
   },
   "outputs": [],
   "source": [
    "# import and init\n",
    "from annoy import AnnoyIndex\n",
    "import gensim\n",
    "import os.path\n",
    "import numpy as np\n",
    "\n",
    "prefix_filename = 'word2vec'\n",
    "ann_filename = prefix_filename + '.ann'\n",
    "i2k_filename = prefix_filename + '_i2k.npy'\n",
    "k2i_filename = prefix_filename + '_k2i.npy'"
   ]
  },
  {
   "cell_type": "markdown",
   "metadata": {},
   "source": [
    "## Create a model or load it"
   ]
  },
  {
   "cell_type": "code",
   "execution_count": 17,
   "metadata": {
    "collapsed": false
   },
   "outputs": [
    {
     "name": "stdout",
     "output_type": "stream",
     "text": [
      "load GoogleNews Model\n",
      "loading done\n",
      "model size= 3000000\n",
      "vector size= 300\n"
     ]
    }
   ],
   "source": [
    "# Load Google's pre-trained Word2Vec model.\n",
    "print \"load GoogleNews Model\"\n",
    "model = gensim.models.KeyedVectors.load_word2vec_format('./GoogleNews-vectors-negative300.bin', binary=True)  \n",
    "print \"loading done\"\n",
    "\n",
    "hello = model['hello']\n",
    "vector_size = len(hello)\n",
    "print 'model size=', len(model.vocab)\n",
    "print 'vector size=', vector_size"
   ]
  },
  {
   "cell_type": "code",
   "execution_count": 19,
   "metadata": {
    "collapsed": false
   },
   "outputs": [
    {
     "name": "stdout",
     "output_type": "stream",
     "text": [
      "loading files\n",
      "loading done: 3000000 items\n"
     ]
    }
   ],
   "source": [
    "# process the model and save a model\n",
    "# or load the model directly\n",
    "vocab = model.vocab.keys()\n",
    "indexNN = AnnoyIndex(vector_size)\n",
    "index2key = len(model.vocab)\n",
    "key2index = {}\n",
    "\n",
    "if not os.path.isfile(ann_filename): \n",
    "    print 'creating indexes'\n",
    "    i = 0\n",
    "    try:\n",
    "        for key in vocab:\n",
    "            indexNN.add_item(i, model[key])\n",
    "            key2index[key]=i\n",
    "            index2key[i]=key\n",
    "            i=i+1\n",
    "            if (i%10000==0):\n",
    "                print i, key\n",
    "    except TypeError:\n",
    "        print 'Error with key', key\n",
    "    print 'building 10 trees'\n",
    "    indexNN.build(10) # 10 trees\n",
    "    print 'save  files'\n",
    "    indexNN.save(ann_filename)\n",
    "    np.save(i2k_filename, index2key)\n",
    "    np.save(k2i_filename, key2index)\n",
    "    print 'done'\n",
    "else:\n",
    "    print \"loading files\"\n",
    "    indexNN.load(ann_filename)\n",
    "    index2key = np.load(i2k_filename)\n",
    "    key2index = np.load(k2i_filename)\n",
    "    print \"loading done:\", indexNN.get_n_items(), \"items\""
   ]
  },
  {
   "cell_type": "markdown",
   "metadata": {},
   "source": [
    "## King - Male + Female = Queen?\n",
    "Nope!\n",
    "\n",
    "At least not based on a word2vec that is trained on the News..."
   ]
  },
  {
   "cell_type": "code",
   "execution_count": 9,
   "metadata": {
    "collapsed": false
   },
   "outputs": [
    {
     "name": "stdout",
     "output_type": "stream",
     "text": [
      "king - male + female = \n",
      "king\n"
     ]
    }
   ],
   "source": [
    "king = model['king']\n",
    "male = model['male']\n",
    "female = model['female']\n",
    "\n",
    "what_vec = king - male + female\n",
    "what_indexes = indexNN.get_nns_by_vector(what_vec, 1)\n",
    "\n",
    "print 'king - male + female = '\n",
    "for i in what_indexes:\n",
    "    print index2key[i]"
   ]
  },
  {
   "cell_type": "markdown",
   "metadata": {},
   "source": [
    "## Berlin  - Germany + France = Paris?\n",
    "Yes!\n",
    "\n",
    "This makes me happy, but if someone understand why, please tell me!"
   ]
  },
  {
   "cell_type": "code",
   "execution_count": 20,
   "metadata": {
    "collapsed": false
   },
   "outputs": [
    {
     "name": "stdout",
     "output_type": "stream",
     "text": [
      "Paris\n"
     ]
    }
   ],
   "source": [
    "what_vec = model['Berlin'] - model['Germany'] + model['France']\n",
    "what_indexes = indexNN.get_nns_by_vector(what_vec, 1)\n",
    "\n",
    "for i in what_indexes:\n",
    "    print index2key[i]"
   ]
  },
  {
   "cell_type": "markdown",
   "metadata": {},
   "source": [
    "## Trump - USA + Germany = Hitler?\n",
    "FAKE NEWS"
   ]
  },
  {
   "cell_type": "code",
   "execution_count": 12,
   "metadata": {
    "collapsed": false
   },
   "outputs": [
    {
     "name": "stdout",
     "output_type": "stream",
     "text": [
      "Dean_Gitter\n"
     ]
    }
   ],
   "source": [
    "what_vec = model['Trump'] + model['Germany'] - model['USA']\n",
    "what_indexes = indexNN.get_nns_by_vector(what_vec, 1)\n",
    "\n",
    "for i in what_indexes:\n",
    "    print index2key[i]"
   ]
  },
  {
   "cell_type": "markdown",
   "metadata": {},
   "source": [
    "If you play with this notebook and find good word2vec equation, please tweet them to me!  \n",
    "__@dh7net__"
   ]
  }
 ],
 "metadata": {
  "kernelspec": {
   "display_name": "Python 2",
   "language": "python",
   "name": "python2"
  },
  "language_info": {
   "codemirror_mode": {
    "name": "ipython",
    "version": 2
   },
   "file_extension": ".py",
   "mimetype": "text/x-python",
   "name": "python",
   "nbconvert_exporter": "python",
   "pygments_lexer": "ipython2",
   "version": "2.7.10"
  }
 },
 "nbformat": 4,
 "nbformat_minor": 0
}

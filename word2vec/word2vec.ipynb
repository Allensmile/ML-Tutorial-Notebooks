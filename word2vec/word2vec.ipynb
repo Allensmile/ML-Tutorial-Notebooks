{
 "cells": [
  {
   "cell_type": "markdown",
   "metadata": {
    "collapsed": true,
    "deletable": true,
    "editable": true
   },
   "source": [
    "# A Word2Vec playground\n",
    "\n",
    "To play with this notebook, you'll need Numpy, Annoy, Gensim, and the [GoogleNews word2vec model]( https://code.google.com/archive/p/word2vec/)\n",
    "\n",
    "* pip install numpy\n",
    "* pip install annoy  \n",
    "* pip install gensim  \n",
    "* you can find the GoogleNews vector by googling _./GoogleNews-vectors-negative300.bin_  \n",
    "  \n",
    "\n",
    "Inspired by: https://github.com/chrisjmccormick/inspect_word2vec\n"
   ]
  },
  {
   "cell_type": "code",
   "execution_count": 1,
   "metadata": {
    "collapsed": false,
    "deletable": true,
    "editable": true
   },
   "outputs": [],
   "source": [
    "# import and init\n",
    "from annoy import AnnoyIndex\n",
    "import gensim\n",
    "import os.path\n",
    "import numpy as np\n",
    "\n",
    "prefix_filename = 'word2vec'\n",
    "ann_filename = prefix_filename + '.ann'\n",
    "i2k_filename = prefix_filename + '_i2k.npy'\n",
    "k2i_filename = prefix_filename + '_k2i.npy'"
   ]
  },
  {
   "cell_type": "markdown",
   "metadata": {
    "deletable": true,
    "editable": true
   },
   "source": [
    "## Create a model or load it"
   ]
  },
  {
   "cell_type": "code",
   "execution_count": 2,
   "metadata": {
    "collapsed": false,
    "deletable": true,
    "editable": true
   },
   "outputs": [
    {
     "name": "stdout",
     "output_type": "stream",
     "text": [
      "load GoogleNews Model\n",
      "loading done\n",
      "model size= 3000000\n",
      "vector size= 300\n"
     ]
    }
   ],
   "source": [
    "# Load Google's pre-trained Word2Vec model.\n",
    "print \"load GoogleNews Model\"\n",
    "model = gensim.models.KeyedVectors.load_word2vec_format('./GoogleNews-vectors-negative300.bin', binary=True)  \n",
    "print \"loading done\"\n",
    "\n",
    "hello = model['hello']\n",
    "vector_size = len(hello)\n",
    "print 'model size=', len(model.vocab)\n",
    "print 'vector size=', vector_size"
   ]
  },
  {
   "cell_type": "code",
   "execution_count": 3,
   "metadata": {
    "collapsed": false,
    "deletable": true,
    "editable": true
   },
   "outputs": [
    {
     "name": "stdout",
     "output_type": "stream",
     "text": [
      "loading files\n",
      "loading done: 3000000 items\n"
     ]
    }
   ],
   "source": [
    "# process the model and save a model\n",
    "# or load the model directly\n",
    "vocab = model.vocab.keys()\n",
    "indexNN = AnnoyIndex(vector_size)\n",
    "index2key = len(model.vocab)\n",
    "key2index = {}\n",
    "\n",
    "if not os.path.isfile(ann_filename): \n",
    "    print 'creating indexes'\n",
    "    i = 0\n",
    "    try:\n",
    "        for key in vocab:\n",
    "            indexNN.add_item(i, model[key])\n",
    "            key2index[key]=i\n",
    "            index2key[i]=key\n",
    "            i=i+1\n",
    "            if (i%10000==0):\n",
    "                print i, key\n",
    "    except TypeError:\n",
    "        print 'Error with key', key\n",
    "    print 'building 10 trees'\n",
    "    indexNN.build(10) # 10 trees\n",
    "    print 'save  files'\n",
    "    indexNN.save(ann_filename)\n",
    "    np.save(i2k_filename, index2key)\n",
    "    np.save(k2i_filename, key2index)\n",
    "    print 'done'\n",
    "else:\n",
    "    print \"loading files\"\n",
    "    indexNN.load(ann_filename)\n",
    "    index2key = np.load(i2k_filename)\n",
    "    key2index = np.load(k2i_filename)\n",
    "    print \"loading done:\", indexNN.get_n_items(), \"items\""
   ]
  },
  {
   "cell_type": "markdown",
   "metadata": {
    "deletable": true,
    "editable": true
   },
   "source": [
    "## King - Male + Female = Queen?\n",
    "Nope!\n",
    "\n",
    "At least not based on a word2vec that is trained on the News..."
   ]
  },
  {
   "cell_type": "code",
   "execution_count": 10,
   "metadata": {
    "collapsed": false,
    "deletable": true,
    "editable": true
   },
   "outputs": [
    {
     "name": "stdout",
     "output_type": "stream",
     "text": [
      "king\n"
     ]
    }
   ],
   "source": [
    "what_vec = model['king'] - model['male'] + model['female']\n",
    "\n",
    "what_indexes = indexNN.get_nns_by_vector(what_vec, 1)\n",
    "print index2key[what_indexes[0]]"
   ]
  },
  {
   "cell_type": "markdown",
   "metadata": {
    "deletable": true,
    "editable": true
   },
   "source": [
    "## King - boy + girl = Queen?\n",
    "Yes :)  \n",
    "but it don't work with man & women :("
   ]
  },
  {
   "cell_type": "code",
   "execution_count": 12,
   "metadata": {
    "collapsed": false,
    "deletable": true,
    "editable": true
   },
   "outputs": [
    {
     "name": "stdout",
     "output_type": "stream",
     "text": [
      "queen\n"
     ]
    }
   ],
   "source": [
    "what_vec = model['king'] - model['boy'] + model['girl']\n",
    "\n",
    "what_indexes = indexNN.get_nns_by_vector(what_vec, 1)\n",
    "print index2key[what_indexes[0]]"
   ]
  },
  {
   "cell_type": "code",
   "execution_count": 15,
   "metadata": {
    "collapsed": false,
    "deletable": true,
    "editable": true
   },
   "outputs": [
    {
     "name": "stdout",
     "output_type": "stream",
     "text": [
      "absolute_monarch\n"
     ]
    }
   ],
   "source": [
    "what_vec = model['king'] - model['man'] + model['women']\n",
    "\n",
    "what_indexes = indexNN.get_nns_by_vector(what_vec, 1)\n",
    "print index2key[what_indexes[0]]"
   ]
  },
  {
   "cell_type": "markdown",
   "metadata": {
    "deletable": true,
    "editable": true
   },
   "source": [
    "## Berlin  - Germany + France = Paris?\n",
    "Yes!\n",
    "\n",
    "This makes me happy, but if someone understand why, please tell me!"
   ]
  },
  {
   "cell_type": "code",
   "execution_count": 14,
   "metadata": {
    "collapsed": false,
    "deletable": true,
    "editable": true
   },
   "outputs": [
    {
     "name": "stdout",
     "output_type": "stream",
     "text": [
      "Paris\n"
     ]
    }
   ],
   "source": [
    "what_vec = model['Berlin'] - model['Germany'] + model['France']\n",
    "\n",
    "what_indexes = indexNN.get_nns_by_vector(what_vec, 1)\n",
    "print index2key[what_indexes[0]]"
   ]
  },
  {
   "cell_type": "markdown",
   "metadata": {
    "deletable": true,
    "editable": true
   },
   "source": [
    "## Trump - USA + Germany = Hitler?\n",
    "FAKE NEWS"
   ]
  },
  {
   "cell_type": "code",
   "execution_count": 12,
   "metadata": {
    "collapsed": false,
    "deletable": true,
    "editable": true
   },
   "outputs": [
    {
     "name": "stdout",
     "output_type": "stream",
     "text": [
      "Dean_Gitter\n"
     ]
    }
   ],
   "source": [
    "what_vec = model['Trump'] + model['Germany'] - model['USA']\n",
    "what_indexes = indexNN.get_nns_by_vector(what_vec, 1)\n",
    "\n",
    "for i in what_indexes:\n",
    "    print index2key[i]"
   ]
  },
  {
   "cell_type": "markdown",
   "metadata": {
    "deletable": true,
    "editable": true
   },
   "source": [
    "# Let's explore the stereotypes hidded in the news:"
   ]
  },
  {
   "cell_type": "code",
   "execution_count": 53,
   "metadata": {
    "collapsed": false,
    "deletable": true,
    "editable": true
   },
   "outputs": [
    {
     "name": "stdout",
     "output_type": "stream",
     "text": [
      "king for him, queen for her.\n",
      "prince for him, duchess for her.\n",
      "male for him, female for her.\n",
      "boy for him, girl for her.\n",
      "dad for him, motherly_instincts for her.\n",
      "father for him, mother for her.\n",
      "president for him, president for her.\n",
      "dentist for him, plastic_surgeon for her.\n",
      "scientist for him, linguistics_professor for her.\n",
      "efficient for him, efficient for her.\n",
      "teacher for him, teacher for her.\n",
      "doctor for him, doctor for her.\n",
      "minister for him, minister for her.\n",
      "lover for him, seductress for her.\n"
     ]
    }
   ],
   "source": [
    "man2women =  - model['boy'] + model['girl'] \n",
    "\n",
    "word_list = [\"king\",\"prince\", \"male\", \"boy\",\"dad\", \"father\", \"president\", \"dentist\",\n",
    "             \"scientist\", \"efficient\",  \"teacher\", \"doctor\", \"minister\", \"lover\"]\n",
    "for word in word_list:\n",
    "    what_vec = model[word] + man2women\n",
    "    what_indexes = indexNN.get_nns_by_vector(what_vec, 1)\n",
    "    print word, \"for him,\", index2key[what_indexes[0]], \"for her.\""
   ]
  },
  {
   "cell_type": "code",
   "execution_count": 54,
   "metadata": {
    "collapsed": false,
    "deletable": true,
    "editable": true
   },
   "outputs": [
    {
     "name": "stdout",
     "output_type": "stream",
     "text": [
      "Berlin is the capital of Germany\n",
      "Paris is the capital of France\n",
      "Rome is the capital of Italy\n",
      "Teen_Poetry_Slam is the capital of USA\n",
      "Moscow is the capital of Russia\n",
      "kids is the capital of boys\n",
      "paddywagon is the capital of cars\n",
      "flower is the capital of flowers\n",
      "civilians is the capital of soldiers\n",
      "Humberto_Campins is the capital of scientists\n"
     ]
    }
   ],
   "source": [
    "capital = model['Berlin'] - model['Germany'] \n",
    "\n",
    "word_list = [\"Germany\", \"France\", \"Italy\", \"USA\", \"Russia\", \"boys\", \"cars\", \"flowers\", \"soldiers\",\n",
    "             \"scientists\", ]\n",
    "for word in word_list:\n",
    "    what_vec = model[word] + capital\n",
    "    what_indexes = indexNN.get_nns_by_vector(what_vec, 1)\n",
    "    print index2key[what_indexes[0]], \"is the capital of\", word"
   ]
  },
  {
   "cell_type": "markdown",
   "metadata": {
    "deletable": true,
    "editable": true
   },
   "source": [
    "If you play with this notebook and find good word2vec equation, please tweet them to me!  \n",
    "__@dh7net__"
   ]
  }
 ],
 "metadata": {
  "kernelspec": {
   "display_name": "Python 2",
   "language": "python",
   "name": "python2"
  },
  "language_info": {
   "codemirror_mode": {
    "name": "ipython",
    "version": 2
   },
   "file_extension": ".py",
   "mimetype": "text/x-python",
   "name": "python",
   "nbconvert_exporter": "python",
   "pygments_lexer": "ipython2",
   "version": "2.7.12+"
  }
 },
 "nbformat": 4,
 "nbformat_minor": 0
}

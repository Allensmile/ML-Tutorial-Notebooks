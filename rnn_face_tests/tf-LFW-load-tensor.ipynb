{
 "cells": [
  {
   "cell_type": "markdown",
   "metadata": {},
   "source": [
    "# Tensor Flow to encode LFW set\n",
    "To learn how to encode a simple image and a GIF"
   ]
  },
  {
   "cell_type": "markdown",
   "metadata": {},
   "source": [
    "## Import needed for Tensorflow"
   ]
  },
  {
   "cell_type": "code",
   "execution_count": 1,
   "metadata": {
    "collapsed": false
   },
   "outputs": [],
   "source": [
    "import numpy as np\n",
    "import tensorflow as tf"
   ]
  },
  {
   "cell_type": "markdown",
   "metadata": {},
   "source": [
    "## Import needed for Jupiter:"
   ]
  },
  {
   "cell_type": "code",
   "execution_count": 2,
   "metadata": {
    "collapsed": true
   },
   "outputs": [],
   "source": [
    "%matplotlib notebook\n",
    "import matplotlib\n",
    "import matplotlib.pyplot as plt\n",
    "\n",
    "from IPython.display import Image"
   ]
  },
  {
   "cell_type": "code",
   "execution_count": 3,
   "metadata": {
    "collapsed": false
   },
   "outputs": [],
   "source": [
    "size = 10\n",
    "\n",
    "tf.reset_default_graph()\n",
    "\n",
    "all_faces = tf.Variable(0,validate_shape=False, dtype=tf.float32, name='all_faces')\n",
    "saver = tf.train.Saver()\n",
    "sess =  tf.Session()"
   ]
  },
  {
   "cell_type": "code",
   "execution_count": 4,
   "metadata": {
    "collapsed": false
   },
   "outputs": [
    {
     "name": "stdout",
     "output_type": "stream",
     "text": [
      "(u'all_faces:0', ())\n",
      "0.0\n"
     ]
    }
   ],
   "source": [
    "with sess.as_default():\n",
    "    tf.initialize_all_variables().run()\n",
    "    for var in tf.all_variables():\n",
    "        print (var.name, var.eval().shape)\n",
    "    print all_faces.eval()"
   ]
  },
  {
   "cell_type": "code",
   "execution_count": 5,
   "metadata": {
    "collapsed": false
   },
   "outputs": [
    {
     "name": "stdout",
     "output_type": "stream",
     "text": [
      "./tmp/model.ckpt\n",
      "Model restored.\n"
     ]
    }
   ],
   "source": [
    "with sess.as_default():\n",
    "    ckpt = tf.train.get_checkpoint_state(\"./tmp/\")\n",
    "    if ckpt and ckpt.model_checkpoint_path:\n",
    "        print ckpt.model_checkpoint_path\n",
    "        saver.restore(sess, ckpt.model_checkpoint_path)\n",
    "        print(\"Model restored.\")\n",
    "    else:\n",
    "        print (\"Model not restored.\")"
   ]
  },
  {
   "cell_type": "code",
   "execution_count": 6,
   "metadata": {
    "collapsed": false
   },
   "outputs": [
    {
     "name": "stdout",
     "output_type": "stream",
     "text": [
      "(u'all_faces:0', (10, 250, 250))\n",
      "[[[ 0.14536607  0.15289439  0.14419065 ...,  0.92481071  0.95753837\n",
      "    0.95830441]\n",
      "  [ 0.14536607  0.15289439  0.14419065 ...,  0.90830153  0.95753837\n",
      "    0.95830441]\n",
      "  [ 0.14536607  0.15289439  0.14419065 ...,  0.89179236  0.94102919\n",
      "    0.94179523]\n",
      "  ..., \n",
      "  [ 0.44253123  0.45005956  0.44135582 ...,  1.15593922  1.17215765\n",
      "    1.17292368]\n",
      "  [ 0.47554958  0.46656874  0.457865   ...,  1.15593922  1.17215765\n",
      "    1.17292368]\n",
      "  [ 0.47554958  0.46656874  0.47437418 ...,  1.15593922  1.17215765\n",
      "    1.17292368]]\n",
      "\n",
      " [[ 0.73969638  0.74722475  0.75503016 ...,  1.18895757  1.205176\n",
      "    1.20594203]\n",
      "  [ 0.73969638  0.74722475  0.75503016 ...,  1.18895757  1.205176\n",
      "    1.20594203]\n",
      "  [ 0.73969638  0.74722475  0.75503016 ...,  1.1724484   1.18866682\n",
      "    1.18943286]\n",
      "  ..., \n",
      "  [ 0.3930037   0.35100451  0.24324571 ..., -2.11287761 -2.12967753\n",
      "   -2.14542055]\n",
      "  [ 0.37649453  0.11987605  0.21022736 ..., -2.2119329  -2.22873259\n",
      "   -2.3105123 ]\n",
      "  [ 0.35998535  0.10336687  0.19371818 ..., -2.410043   -2.45986104\n",
      "   -2.55814981]]\n",
      "\n",
      " [[ 0.73969638  0.74722475  0.75503016 ...,  1.18895757  1.205176\n",
      "    1.20594203]\n",
      "  [ 0.73969638  0.74722475  0.75503016 ...,  1.18895757  1.205176\n",
      "    1.20594203]\n",
      "  [ 0.73969638  0.74722475  0.75503016 ...,  1.18895757  1.205176\n",
      "    1.20594203]\n",
      "  ..., \n",
      "  [-1.24140465 -1.25038552 -1.24258006 ...,  1.04037499  0.97404754\n",
      "    0.85924935]\n",
      "  [-1.2083863  -1.21736717 -1.20956171 ...,  1.07339334  1.04008424\n",
      "    0.99132276]\n",
      "  [-1.2083863  -1.21736717 -1.20956171 ...,  1.07339334  1.12263012\n",
      "    1.07386863]]\n",
      "\n",
      " ..., \n",
      " [[-1.58809733 -1.56405985 -1.50672686 ..., -0.90770781 -0.39621404\n",
      "   -0.14781035]\n",
      "  [-1.62111568 -1.5970782  -1.55625439 ..., -1.30392802 -1.00705349\n",
      "   -0.79166818]\n",
      "  [-1.65413404 -1.63009655 -1.58927274 ..., -1.66712987 -1.43629205\n",
      "   -1.27043426]\n",
      "  ..., \n",
      "  [-2.71072149 -2.86828494 -3.00906181 ..., -1.60109317 -1.66742063\n",
      "   -1.56759942]\n",
      "  [-2.64468479 -2.67017484 -2.76142406 ..., -1.6506207  -1.63440228\n",
      "   -1.53458107]\n",
      "  [-2.49610209 -2.53810143 -2.62935066 ..., -1.53505647 -1.56836557\n",
      "   -1.48505354]]\n",
      "\n",
      " [[-1.50555146 -1.49802315 -1.45719934 ..., -0.34639582 -0.34668651\n",
      "   -0.32941127]\n",
      "  [-1.43951476 -1.48151398 -1.49021769 ..., -0.362905   -0.34668651\n",
      "   -0.34592047]\n",
      "  [-1.30744135 -1.41547728 -1.49021769 ..., -0.39592335 -0.34668651\n",
      "   -0.34592047]\n",
      "  ..., \n",
      "  [ 0.54158628  0.53260541  0.54041088 ...,  1.13943005  1.07310259\n",
      "    1.02434111]\n",
      "  [ 0.54158628  0.53260541  0.54041088 ...,  1.1064117   1.05659342\n",
      "    0.97481358]\n",
      "  [ 0.54158628  0.53260541  0.54041088 ...,  1.1064117   1.02357507\n",
      "    0.94179523]]\n",
      "\n",
      " [[ 0.73969638  0.74722475  0.75503016 ...,  1.18895757  1.205176\n",
      "    1.20594203]\n",
      "  [ 0.73969638  0.74722475  0.75503016 ...,  1.18895757  1.205176\n",
      "    1.20594203]\n",
      "  [ 0.73969638  0.74722475  0.75503016 ...,  1.18895757  1.205176\n",
      "    1.20594203]\n",
      "  ..., \n",
      "  [-2.54562974 -2.58762884 -2.62935066 ..., -0.47846922 -0.06603053\n",
      "   -0.0487553 ]\n",
      "  [-2.59515715 -2.62064719 -2.66236901 ..., -0.77563441 -0.34668651\n",
      "   -0.13130118]\n",
      "  [-2.59515715 -2.62064719 -2.66236901 ..., -1.07279956 -0.56130582\n",
      "   -0.32941127]]]\n"
     ]
    }
   ],
   "source": [
    "with sess.as_default():\n",
    "    for var in tf.all_variables():\n",
    "        print (var.name, var.eval().shape)\n",
    "    print all_faces.eval()"
   ]
  },
  {
   "cell_type": "markdown",
   "metadata": {},
   "source": [
    "## A function to save a picture"
   ]
  },
  {
   "cell_type": "code",
   "execution_count": 7,
   "metadata": {
    "collapsed": true
   },
   "outputs": [],
   "source": [
    "#need to be called within a session\n",
    "def write_png(tensor, name):\n",
    "    casted_to_uint8 = tf.cast(tensor, tf.uint8)\n",
    "    converted_to_png = tf.image.encode_png(casted_to_uint8)\n",
    "    f = open(name, \"wb+\")\n",
    "    f.write(converted_to_png.eval())\n",
    "    f.close() "
   ]
  },
  {
   "cell_type": "markdown",
   "metadata": {},
   "source": [
    "## Create a test pictures\n",
    "### Encode the input (a number)\n",
    "This example convert the number to a binary representation"
   ]
  },
  {
   "cell_type": "code",
   "execution_count": 8,
   "metadata": {
    "collapsed": false
   },
   "outputs": [
    {
     "name": "stdout",
     "output_type": "stream",
     "text": [
      "(1, 250, 250)\n",
      "(250, 250, 1)\n"
     ]
    }
   ],
   "source": [
    "# Init size\n",
    "with sess.as_default():\n",
    "    a_face = tf.gather(all_faces,[0])\n",
    "    print a_face.eval().shape\n",
    "    # remove channel dimension and add index dimension\n",
    "    pict_face = tf.expand_dims(tf.squeeze(a_face, squeeze_dims=[0]),2)\n",
    "    print pict_face.eval().shape\n",
    "    write_png(pict_face, 'a_face.png')\n"
   ]
  },
  {
   "cell_type": "code",
   "execution_count": 9,
   "metadata": {
    "collapsed": false
   },
   "outputs": [
    {
     "data": {
      "image/png": "[encoded data removed]",
      "text/plain": [
       "<IPython.core.display.Image object>"
      ]
     },
     "execution_count": 9,
     "metadata": {},
     "output_type": "execute_result"
    }
   ],
   "source": [
    "Image(\"a_face.png\")"
   ]
  },
  {
   "cell_type": "markdown",
   "metadata": {},
   "source": [
    "Feedback wellcome @dh7net"
   ]
  }
 ],
 "metadata": {
  "kernelspec": {
   "display_name": "Python 2",
   "language": "python",
   "name": "python2"
  },
  "language_info": {
   "codemirror_mode": {
    "name": "ipython",
    "version": 2
   },
   "file_extension": ".py",
   "mimetype": "text/x-python",
   "name": "python",
   "nbconvert_exporter": "python",
   "pygments_lexer": "ipython2",
   "version": "2.7.10"
  }
 },
 "nbformat": 4,
 "nbformat_minor": 0
}
